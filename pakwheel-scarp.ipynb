{
 "cells": [
  {
   "cell_type": "markdown",
   "id": "0f666a6e",
   "metadata": {},
   "source": [
    "# Web-scarping:~"
   ]
  },
  {
   "cell_type": "code",
   "execution_count": 1,
   "id": "0e3ba68b",
   "metadata": {},
   "outputs": [],
   "source": [
    "# import lib\n",
    "import requests\n",
    "from bs4 import BeautifulSoup"
   ]
  },
  {
   "cell_type": "code",
   "execution_count": 2,
   "id": "e8d9ef70",
   "metadata": {},
   "outputs": [],
   "source": [
    "web = requests.get(\"https://www.pakwheels.com/\")\n"
   ]
  },
  {
   "cell_type": "code",
   "execution_count": 3,
   "id": "9f144c6e",
   "metadata": {},
   "outputs": [
    {
     "data": {
      "text/plain": [
       "403"
      ]
     },
     "execution_count": 3,
     "metadata": {},
     "output_type": "execute_result"
    }
   ],
   "source": [
    "web.status_code"
   ]
  },
  {
   "cell_type": "code",
   "execution_count": 4,
   "id": "0819c968",
   "metadata": {},
   "outputs": [],
   "source": [
    "soup = BeautifulSoup(web.content, \"html.parser\")"
   ]
  },
  {
   "cell_type": "code",
   "execution_count": 5,
   "id": "8da0dad0",
   "metadata": {},
   "outputs": [
    {
     "name": "stdout",
     "output_type": "stream",
     "text": [
      "<!DOCTYPE html>\n",
      "<!--[if lt IE 7]> <html class=\"no-js ie6 oldie\" lang=\"en-US\"> <![endif]-->\n",
      "<!--[if IE 7]>    <html class=\"no-js ie7 oldie\" lang=\"en-US\"> <![endif]-->\n",
      "<!--[if IE 8]>    <html class=\"no-js ie8 oldie\" lang=\"en-US\"> <![endif]-->\n",
      "<!--[if gt IE 8]><!-->\n",
      "<html class=\"no-js\" lang=\"en-US\">\n",
      " <!--<![endif]-->\n",
      " <head>\n",
      "  <title>\n",
      "   Attention Required! | Cloudflare\n",
      "  </title>\n",
      "  <meta charset=\"utf-8\"/>\n",
      "  <meta content=\"text/html; charset=utf-8\" http-equiv=\"Content-Type\"/>\n",
      "  <meta content=\"IE=Edge\" http-equiv=\"X-UA-Compatible\"/>\n",
      "  <meta content=\"noindex, nofollow\" name=\"robots\"/>\n",
      "  <meta content=\"width=device-width,initial-scale=1\" name=\"viewport\"/>\n",
      "  <link href=\"/cdn-cgi/styles/cf.errors.css\" id=\"cf_styles-css\" rel=\"stylesheet\"/>\n",
      "  <!--[if lt IE 9]><link rel=\"stylesheet\" id='cf_styles-ie-css' href=\"/cdn-cgi/styles/cf.errors.ie.css\" /><![endif]-->\n",
      "  <style>\n",
      "   body{margin:0;padding:0}\n",
      "  </style>\n",
      "  <!--[if gte IE 10]><!-->\n",
      "  <script>\n",
      "   if (!navigator.cookieEnabled) {\n",
      "    window.addEventListener('DOMContentLoaded', function () {\n",
      "      var cookieEl = document.getElementById('cookie-alert');\n",
      "      cookieEl.style.display = 'block';\n",
      "    })\n",
      "  }\n",
      "  </script>\n",
      "  <!--<![endif]-->\n",
      " </head>\n",
      " <body>\n",
      "  <div id=\"cf-wrapper\">\n",
      "   <div class=\"cf-alert cf-alert-error cf-cookie-error\" data-translate=\"enable_cookies\" id=\"cookie-alert\">\n",
      "    Please enable cookies.\n",
      "   </div>\n",
      "   <div class=\"cf-error-details-wrapper\" id=\"cf-error-details\">\n",
      "    <div class=\"cf-wrapper cf-header cf-error-overview\">\n",
      "     <h1 data-translate=\"block_headline\">\n",
      "      Sorry, you have been blocked\n",
      "     </h1>\n",
      "     <h2 class=\"cf-subheadline\">\n",
      "      <span data-translate=\"unable_to_access\">\n",
      "       You are unable to access\n",
      "      </span>\n",
      "      pakwheels.com\n",
      "     </h2>\n",
      "    </div>\n",
      "    <!-- /.header -->\n",
      "    <div class=\"cf-section cf-highlight\">\n",
      "     <div class=\"cf-wrapper\">\n",
      "      <div class=\"cf-screenshot-container cf-screenshot-full\">\n",
      "       <span class=\"cf-no-screenshot error\">\n",
      "       </span>\n",
      "      </div>\n",
      "     </div>\n",
      "    </div>\n",
      "    <!-- /.captcha-container -->\n",
      "    <div class=\"cf-section cf-wrapper\">\n",
      "     <div class=\"cf-columns two\">\n",
      "      <div class=\"cf-column\">\n",
      "       <h2 data-translate=\"blocked_why_headline\">\n",
      "        Why have I been blocked?\n",
      "       </h2>\n",
      "       <p data-translate=\"blocked_why_detail\">\n",
      "        This website is using a security service to protect itself from online attacks. The action you just performed triggered the security solution. There are several actions that could trigger this block including submitting a certain word or phrase, a SQL command or malformed data.\n",
      "       </p>\n",
      "      </div>\n",
      "      <div class=\"cf-column\">\n",
      "       <h2 data-translate=\"blocked_resolve_headline\">\n",
      "        What can I do to resolve this?\n",
      "       </h2>\n",
      "       <p data-translate=\"blocked_resolve_detail\">\n",
      "        You can email the site owner to let them know you were blocked. Please include what you were doing when this page came up and the Cloudflare Ray ID found at the bottom of this page.\n",
      "       </p>\n",
      "      </div>\n",
      "     </div>\n",
      "    </div>\n",
      "    <!-- /.section -->\n",
      "    <div class=\"cf-error-footer cf-wrapper w-240 lg:w-full py-10 sm:py-4 sm:px-8 mx-auto text-center sm:text-left border-solid border-0 border-t border-gray-300\">\n",
      "     <p class=\"text-13\">\n",
      "      <span class=\"cf-footer-item sm:block sm:mb-1\">\n",
      "       Cloudflare Ray ID:\n",
      "       <strong class=\"font-semibold\">\n",
      "        962a0630fe9cf876\n",
      "       </strong>\n",
      "      </span>\n",
      "      <span class=\"cf-footer-separator sm:hidden\">\n",
      "       •\n",
      "      </span>\n",
      "      <span class=\"cf-footer-item hidden sm:block sm:mb-1\" id=\"cf-footer-item-ip\">\n",
      "       Your IP:\n",
      "       <button class=\"cf-footer-ip-reveal-btn\" id=\"cf-footer-ip-reveal\" type=\"button\">\n",
      "        Click to reveal\n",
      "       </button>\n",
      "       <span class=\"hidden\" id=\"cf-footer-ip\">\n",
      "        39.51.50.95\n",
      "       </span>\n",
      "       <span class=\"cf-footer-separator sm:hidden\">\n",
      "        •\n",
      "       </span>\n",
      "      </span>\n",
      "      <span class=\"cf-footer-item sm:block sm:mb-1\">\n",
      "       <span>\n",
      "        Performance &amp; security by\n",
      "       </span>\n",
      "       <a href=\"https://www.cloudflare.com/5xx-error-landing\" id=\"brand_link\" rel=\"noopener noreferrer\" target=\"_blank\">\n",
      "        Cloudflare\n",
      "       </a>\n",
      "      </span>\n",
      "     </p>\n",
      "     <script>\n",
      "      (function(){function d(){var b=a.getElementById(\"cf-footer-item-ip\"),c=a.getElementById(\"cf-footer-ip-reveal\");b&&\"classList\"in b&&(b.classList.remove(\"hidden\"),c.addEventListener(\"click\",function(){c.classList.add(\"hidden\");a.getElementById(\"cf-footer-ip\").classList.remove(\"hidden\")}))}var a=document;document.addEventListener&&a.addEventListener(\"DOMContentLoaded\",d)})();\n",
      "     </script>\n",
      "    </div>\n",
      "    <!-- /.error-footer -->\n",
      "   </div>\n",
      "   <!-- /#cf-error-details -->\n",
      "  </div>\n",
      "  <!-- /#cf-wrapper -->\n",
      "  <script>\n",
      "   window._cf_translation = {};\n",
      "  </script>\n",
      " </body>\n",
      "</html>\n",
      "\n"
     ]
    }
   ],
   "source": [
    "print(soup.prettify())  # Print the parsed HTML content in a readable format"
   ]
  },
  {
   "cell_type": "markdown",
   "id": "5f108638",
   "metadata": {},
   "source": [
    "# Kind of object in Web Scraping\n",
    "## There are many types of web scraping some are following:\n",
    "1. **Tags**\n",
    "2. **Navigable String**\n",
    "3. **BeautifulSoup**\n",
    "4. **Comment**"
   ]
  },
  {
   "cell_type": "markdown",
   "id": "20c769e6",
   "metadata": {},
   "source": [
    "# **TAGS** :"
   ]
  },
  {
   "cell_type": "code",
   "execution_count": 6,
   "id": "ecb3b8c0",
   "metadata": {},
   "outputs": [
    {
     "data": {
      "text/plain": [
       "<p data-translate=\"blocked_why_detail\">This website is using a security service to protect itself from online attacks. The action you just performed triggered the security solution. There are several actions that could trigger this block including submitting a certain word or phrase, a SQL command or malformed data.</p>"
      ]
     },
     "execution_count": 6,
     "metadata": {},
     "output_type": "execute_result"
    }
   ],
   "source": [
    "soup.p"
   ]
  },
  {
   "cell_type": "code",
   "execution_count": 7,
   "id": "61846231",
   "metadata": {},
   "outputs": [
    {
     "data": {
      "text/plain": [
       "<a href=\"https://www.cloudflare.com/5xx-error-landing\" id=\"brand_link\" rel=\"noopener noreferrer\" target=\"_blank\">Cloudflare</a>"
      ]
     },
     "execution_count": 7,
     "metadata": {},
     "output_type": "execute_result"
    }
   ],
   "source": [
    "soup.a"
   ]
  },
  {
   "cell_type": "code",
   "execution_count": 17,
   "id": "0dca53cd",
   "metadata": {},
   "outputs": [
    {
     "data": {
      "text/plain": [
       "<div id=\"cf-wrapper\">\n",
       "<div class=\"cf-alert cf-alert-error cf-cookie-error\" data-translate=\"enable_cookies\" id=\"cookie-alert\">Please enable cookies.</div>\n",
       "<div class=\"cf-error-details-wrapper\" id=\"cf-error-details\">\n",
       "<div class=\"cf-wrapper cf-header cf-error-overview\">\n",
       "<h1 data-translate=\"block_headline\">Sorry, you have been blocked</h1>\n",
       "<h2 class=\"cf-subheadline\"><span data-translate=\"unable_to_access\">You are unable to access</span> pakwheels.com</h2>\n",
       "</div><!-- /.header -->\n",
       "<div class=\"cf-section cf-highlight\">\n",
       "<div class=\"cf-wrapper\">\n",
       "<div class=\"cf-screenshot-container cf-screenshot-full\">\n",
       "<span class=\"cf-no-screenshot error\"></span>\n",
       "</div>\n",
       "</div>\n",
       "</div><!-- /.captcha-container -->\n",
       "<div class=\"cf-section cf-wrapper\">\n",
       "<div class=\"cf-columns two\">\n",
       "<div class=\"cf-column\">\n",
       "<h2 data-translate=\"blocked_why_headline\">Why have I been blocked?</h2>\n",
       "<p data-translate=\"blocked_why_detail\">This website is using a security service to protect itself from online attacks. The action you just performed triggered the security solution. There are several actions that could trigger this block including submitting a certain word or phrase, a SQL command or malformed data.</p>\n",
       "</div>\n",
       "<div class=\"cf-column\">\n",
       "<h2 data-translate=\"blocked_resolve_headline\">What can I do to resolve this?</h2>\n",
       "<p data-translate=\"blocked_resolve_detail\">You can email the site owner to let them know you were blocked. Please include what you were doing when this page came up and the Cloudflare Ray ID found at the bottom of this page.</p>\n",
       "</div>\n",
       "</div>\n",
       "</div><!-- /.section -->\n",
       "<div class=\"cf-error-footer cf-wrapper w-240 lg:w-full py-10 sm:py-4 sm:px-8 mx-auto text-center sm:text-left border-solid border-0 border-t border-gray-300\">\n",
       "<p class=\"text-13\">\n",
       "<span class=\"cf-footer-item sm:block sm:mb-1\">Cloudflare Ray ID: <strong class=\"font-semibold\">962a0630fe9cf876</strong></span>\n",
       "<span class=\"cf-footer-separator sm:hidden\">•</span>\n",
       "<span class=\"cf-footer-item hidden sm:block sm:mb-1\" id=\"cf-footer-item-ip\">\n",
       "      Your IP:\n",
       "      <button class=\"cf-footer-ip-reveal-btn\" id=\"cf-footer-ip-reveal\" type=\"button\">Click to reveal</button>\n",
       "<span class=\"hidden\" id=\"cf-footer-ip\">39.51.50.95</span>\n",
       "<span class=\"cf-footer-separator sm:hidden\">•</span>\n",
       "</span>\n",
       "<span class=\"cf-footer-item sm:block sm:mb-1\"><span>Performance &amp; security by</span> <a href=\"https://www.cloudflare.com/5xx-error-landing\" id=\"brand_link\" rel=\"noopener noreferrer\" target=\"_blank\">Cloudflare</a></span>\n",
       "</p>\n",
       "<script>(function(){function d(){var b=a.getElementById(\"cf-footer-item-ip\"),c=a.getElementById(\"cf-footer-ip-reveal\");b&&\"classList\"in b&&(b.classList.remove(\"hidden\"),c.addEventListener(\"click\",function(){c.classList.add(\"hidden\");a.getElementById(\"cf-footer-ip\").classList.remove(\"hidden\")}))}var a=document;document.addEventListener&&a.addEventListener(\"DOMContentLoaded\",d)})();</script>\n",
       "</div><!-- /.error-footer -->\n",
       "</div><!-- /#cf-error-details -->\n",
       "</div>"
      ]
     },
     "execution_count": 17,
     "metadata": {},
     "output_type": "execute_result"
    }
   ],
   "source": [
    "soup.div"
   ]
  },
  {
   "cell_type": "code",
   "execution_count": 16,
   "id": "46d631b0",
   "metadata": {},
   "outputs": [
    {
     "data": {
      "text/plain": [
       "<script>\n",
       "  if (!navigator.cookieEnabled) {\n",
       "    window.addEventListener('DOMContentLoaded', function () {\n",
       "      var cookieEl = document.getElementById('cookie-alert');\n",
       "      cookieEl.style.display = 'block';\n",
       "    })\n",
       "  }\n",
       "</script>"
      ]
     },
     "execution_count": 16,
     "metadata": {},
     "output_type": "execute_result"
    }
   ],
   "source": [
    "soup.script"
   ]
  },
  {
   "cell_type": "markdown",
   "id": "b5e16b11",
   "metadata": {},
   "source": [
    "# **Navigable String :~**"
   ]
  },
  {
   "cell_type": "code",
   "execution_count": 18,
   "id": "3903e741",
   "metadata": {},
   "outputs": [
    {
     "data": {
      "text/plain": [
       "'This website is using a security service to protect itself from online attacks. The action you just performed triggered the security solution. There are several actions that could trigger this block including submitting a certain word or phrase, a SQL command or malformed data.'"
      ]
     },
     "execution_count": 18,
     "metadata": {},
     "output_type": "execute_result"
    }
   ],
   "source": [
    "soup.p.string"
   ]
  },
  {
   "cell_type": "code",
   "execution_count": 19,
   "id": "b68543ed",
   "metadata": {},
   "outputs": [
    {
     "data": {
      "text/plain": [
       "'Attention Required! | Cloudflare'"
      ]
     },
     "execution_count": 19,
     "metadata": {},
     "output_type": "execute_result"
    }
   ],
   "source": [
    "soup.title.string"
   ]
  },
  {
   "cell_type": "markdown",
   "id": "21bd6ad3",
   "metadata": {},
   "source": [
    "# **BEAUTIFULLSOUP:~**"
   ]
  },
  {
   "cell_type": "code",
   "execution_count": 20,
   "id": "3489f5d1",
   "metadata": {},
   "outputs": [
    {
     "data": {
      "text/plain": [
       "<head>\n",
       "<title>Attention Required! | Cloudflare</title>\n",
       "<meta charset=\"utf-8\"/>\n",
       "<meta content=\"text/html; charset=utf-8\" http-equiv=\"Content-Type\"/>\n",
       "<meta content=\"IE=Edge\" http-equiv=\"X-UA-Compatible\"/>\n",
       "<meta content=\"noindex, nofollow\" name=\"robots\"/>\n",
       "<meta content=\"width=device-width,initial-scale=1\" name=\"viewport\"/>\n",
       "<link href=\"/cdn-cgi/styles/cf.errors.css\" id=\"cf_styles-css\" rel=\"stylesheet\"/>\n",
       "<!--[if lt IE 9]><link rel=\"stylesheet\" id='cf_styles-ie-css' href=\"/cdn-cgi/styles/cf.errors.ie.css\" /><![endif]-->\n",
       "<style>body{margin:0;padding:0}</style>\n",
       "<!--[if gte IE 10]><!-->\n",
       "<script>\n",
       "  if (!navigator.cookieEnabled) {\n",
       "    window.addEventListener('DOMContentLoaded', function () {\n",
       "      var cookieEl = document.getElementById('cookie-alert');\n",
       "      cookieEl.style.display = 'block';\n",
       "    })\n",
       "  }\n",
       "</script>\n",
       "<!--<![endif]-->\n",
       "</head>"
      ]
     },
     "execution_count": 20,
     "metadata": {},
     "output_type": "execute_result"
    }
   ],
   "source": [
    "soup.head"
   ]
  },
  {
   "cell_type": "code",
   "execution_count": 21,
   "id": "5b89645c",
   "metadata": {},
   "outputs": [
    {
     "data": {
      "text/plain": [
       "<title>Attention Required! | Cloudflare</title>"
      ]
     },
     "execution_count": 21,
     "metadata": {},
     "output_type": "execute_result"
    }
   ],
   "source": [
    "soup.title"
   ]
  },
  {
   "cell_type": "code",
   "execution_count": 22,
   "id": "73fffc45",
   "metadata": {},
   "outputs": [
    {
     "data": {
      "text/plain": [
       "<body>\n",
       "<div id=\"cf-wrapper\">\n",
       "<div class=\"cf-alert cf-alert-error cf-cookie-error\" data-translate=\"enable_cookies\" id=\"cookie-alert\">Please enable cookies.</div>\n",
       "<div class=\"cf-error-details-wrapper\" id=\"cf-error-details\">\n",
       "<div class=\"cf-wrapper cf-header cf-error-overview\">\n",
       "<h1 data-translate=\"block_headline\">Sorry, you have been blocked</h1>\n",
       "<h2 class=\"cf-subheadline\"><span data-translate=\"unable_to_access\">You are unable to access</span> pakwheels.com</h2>\n",
       "</div><!-- /.header -->\n",
       "<div class=\"cf-section cf-highlight\">\n",
       "<div class=\"cf-wrapper\">\n",
       "<div class=\"cf-screenshot-container cf-screenshot-full\">\n",
       "<span class=\"cf-no-screenshot error\"></span>\n",
       "</div>\n",
       "</div>\n",
       "</div><!-- /.captcha-container -->\n",
       "<div class=\"cf-section cf-wrapper\">\n",
       "<div class=\"cf-columns two\">\n",
       "<div class=\"cf-column\">\n",
       "<h2 data-translate=\"blocked_why_headline\">Why have I been blocked?</h2>\n",
       "<p data-translate=\"blocked_why_detail\">This website is using a security service to protect itself from online attacks. The action you just performed triggered the security solution. There are several actions that could trigger this block including submitting a certain word or phrase, a SQL command or malformed data.</p>\n",
       "</div>\n",
       "<div class=\"cf-column\">\n",
       "<h2 data-translate=\"blocked_resolve_headline\">What can I do to resolve this?</h2>\n",
       "<p data-translate=\"blocked_resolve_detail\">You can email the site owner to let them know you were blocked. Please include what you were doing when this page came up and the Cloudflare Ray ID found at the bottom of this page.</p>\n",
       "</div>\n",
       "</div>\n",
       "</div><!-- /.section -->\n",
       "<div class=\"cf-error-footer cf-wrapper w-240 lg:w-full py-10 sm:py-4 sm:px-8 mx-auto text-center sm:text-left border-solid border-0 border-t border-gray-300\">\n",
       "<p class=\"text-13\">\n",
       "<span class=\"cf-footer-item sm:block sm:mb-1\">Cloudflare Ray ID: <strong class=\"font-semibold\">962a0630fe9cf876</strong></span>\n",
       "<span class=\"cf-footer-separator sm:hidden\">•</span>\n",
       "<span class=\"cf-footer-item hidden sm:block sm:mb-1\" id=\"cf-footer-item-ip\">\n",
       "      Your IP:\n",
       "      <button class=\"cf-footer-ip-reveal-btn\" id=\"cf-footer-ip-reveal\" type=\"button\">Click to reveal</button>\n",
       "<span class=\"hidden\" id=\"cf-footer-ip\">39.51.50.95</span>\n",
       "<span class=\"cf-footer-separator sm:hidden\">•</span>\n",
       "</span>\n",
       "<span class=\"cf-footer-item sm:block sm:mb-1\"><span>Performance &amp; security by</span> <a href=\"https://www.cloudflare.com/5xx-error-landing\" id=\"brand_link\" rel=\"noopener noreferrer\" target=\"_blank\">Cloudflare</a></span>\n",
       "</p>\n",
       "<script>(function(){function d(){var b=a.getElementById(\"cf-footer-item-ip\"),c=a.getElementById(\"cf-footer-ip-reveal\");b&&\"classList\"in b&&(b.classList.remove(\"hidden\"),c.addEventListener(\"click\",function(){c.classList.add(\"hidden\");a.getElementById(\"cf-footer-ip\").classList.remove(\"hidden\")}))}var a=document;document.addEventListener&&a.addEventListener(\"DOMContentLoaded\",d)})();</script>\n",
       "</div><!-- /.error-footer -->\n",
       "</div><!-- /#cf-error-details -->\n",
       "</div><!-- /#cf-wrapper -->\n",
       "<script>\n",
       "  window._cf_translation = {};\n",
       "  \n",
       "  \n",
       "</script>\n",
       "</body>"
      ]
     },
     "execution_count": 22,
     "metadata": {},
     "output_type": "execute_result"
    }
   ],
   "source": [
    "soup.body"
   ]
  },
  {
   "cell_type": "code",
   "execution_count": 24,
   "id": "80461aea",
   "metadata": {},
   "outputs": [
    {
     "data": {
      "text/plain": [
       "[<p data-translate=\"blocked_why_detail\">This website is using a security service to protect itself from online attacks. The action you just performed triggered the security solution. There are several actions that could trigger this block including submitting a certain word or phrase, a SQL command or malformed data.</p>,\n",
       " <p data-translate=\"blocked_resolve_detail\">You can email the site owner to let them know you were blocked. Please include what you were doing when this page came up and the Cloudflare Ray ID found at the bottom of this page.</p>,\n",
       " <p class=\"text-13\">\n",
       " <span class=\"cf-footer-item sm:block sm:mb-1\">Cloudflare Ray ID: <strong class=\"font-semibold\">962a0630fe9cf876</strong></span>\n",
       " <span class=\"cf-footer-separator sm:hidden\">•</span>\n",
       " <span class=\"cf-footer-item hidden sm:block sm:mb-1\" id=\"cf-footer-item-ip\">\n",
       "       Your IP:\n",
       "       <button class=\"cf-footer-ip-reveal-btn\" id=\"cf-footer-ip-reveal\" type=\"button\">Click to reveal</button>\n",
       " <span class=\"hidden\" id=\"cf-footer-ip\">39.51.50.95</span>\n",
       " <span class=\"cf-footer-separator sm:hidden\">•</span>\n",
       " </span>\n",
       " <span class=\"cf-footer-item sm:block sm:mb-1\"><span>Performance &amp; security by</span> <a href=\"https://www.cloudflare.com/5xx-error-landing\" id=\"brand_link\" rel=\"noopener noreferrer\" target=\"_blank\">Cloudflare</a></span>\n",
       " </p>]"
      ]
     },
     "execution_count": 24,
     "metadata": {},
     "output_type": "execute_result"
    }
   ],
   "source": [
    "soup.find_all(\"p\")  # Find all <p> tags\n"
   ]
  },
  {
   "cell_type": "code",
   "execution_count": 25,
   "id": "5a858329",
   "metadata": {},
   "outputs": [
    {
     "data": {
      "text/plain": [
       "[<a href=\"https://www.cloudflare.com/5xx-error-landing\" id=\"brand_link\" rel=\"noopener noreferrer\" target=\"_blank\">Cloudflare</a>]"
      ]
     },
     "execution_count": 25,
     "metadata": {},
     "output_type": "execute_result"
    }
   ],
   "source": [
    "soup.find_all(\"a\")  # Find all <a> tags"
   ]
  },
  {
   "cell_type": "markdown",
   "id": "ff6944e7",
   "metadata": {},
   "source": [
    "# **COMMENTS:~**"
   ]
  },
  {
   "cell_type": "code",
   "execution_count": 29,
   "id": "d1665ad9",
   "metadata": {},
   "outputs": [
    {
     "data": {
      "text/plain": [
       "'This website is using a security service to protect itself from online attacks. The action you just performed triggered the security solution. There are several actions that could trigger this block including submitting a certain word or phrase, a SQL command or malformed data.'"
      ]
     },
     "execution_count": 29,
     "metadata": {},
     "output_type": "execute_result"
    }
   ],
   "source": [
    "comments = soup.p.string\n",
    "comments"
   ]
  },
  {
   "cell_type": "markdown",
   "id": "63801568",
   "metadata": {},
   "source": [
    "# **EXTRACTING TEXT FROM TAGS:~**"
   ]
  },
  {
   "cell_type": "code",
   "execution_count": 30,
   "id": "65c52580",
   "metadata": {},
   "outputs": [
    {
     "name": "stdout",
     "output_type": "stream",
     "text": [
      "This website is using a security service to protect itself from online attacks. The action you just performed triggered the security solution. There are several actions that could trigger this block including submitting a certain word or phrase, a SQL command or malformed data.\n",
      "You can email the site owner to let them know you were blocked. Please include what you were doing when this page came up and the Cloudflare Ray ID found at the bottom of this page.\n",
      "None\n"
     ]
    }
   ],
   "source": [
    "lines =soup.find_all(\"p\")\n",
    "for line in lines:\n",
    "    print(line.string)"
   ]
  },
  {
   "cell_type": "markdown",
   "id": "ea73cfc6",
   "metadata": {},
   "source": [
    "# **FIND ELEMENT BY USING ID AND CLASS:~**"
   ]
  },
  {
   "cell_type": "code",
   "execution_count": 37,
   "id": "96e43ae0",
   "metadata": {},
   "outputs": [
    {
     "ename": "ModuleNotFoundError",
     "evalue": "No module named 'selenium'",
     "output_type": "error",
     "traceback": [
      "\u001b[31m---------------------------------------------------------------------------\u001b[39m",
      "\u001b[31mModuleNotFoundError\u001b[39m                       Traceback (most recent call last)",
      "\u001b[36mCell\u001b[39m\u001b[36m \u001b[39m\u001b[32mIn[37]\u001b[39m\u001b[32m, line 4\u001b[39m\n\u001b[32m      1\u001b[39m \u001b[38;5;66;03m# Install selenium and webdriver-manager if not already installed\u001b[39;00m\n\u001b[32m      2\u001b[39m \u001b[38;5;66;03m# !pip install selenium webdriver-manager\u001b[39;00m\n\u001b[32m----> \u001b[39m\u001b[32m4\u001b[39m \u001b[38;5;28;01mfrom\u001b[39;00m\u001b[38;5;250m \u001b[39m\u001b[34;01mselenium\u001b[39;00m\u001b[38;5;250m \u001b[39m\u001b[38;5;28;01mimport\u001b[39;00m webdriver\n\u001b[32m      5\u001b[39m \u001b[38;5;28;01mfrom\u001b[39;00m\u001b[38;5;250m \u001b[39m\u001b[34;01mselenium\u001b[39;00m\u001b[34;01m.\u001b[39;00m\u001b[34;01mwebdriver\u001b[39;00m\u001b[34;01m.\u001b[39;00m\u001b[34;01mchrome\u001b[39;00m\u001b[34;01m.\u001b[39;00m\u001b[34;01mservice\u001b[39;00m\u001b[38;5;250m \u001b[39m\u001b[38;5;28;01mimport\u001b[39;00m Service\n\u001b[32m      6\u001b[39m \u001b[38;5;28;01mfrom\u001b[39;00m\u001b[38;5;250m \u001b[39m\u001b[34;01mwebdriver_manager\u001b[39;00m\u001b[34;01m.\u001b[39;00m\u001b[34;01mchrome\u001b[39;00m\u001b[38;5;250m \u001b[39m\u001b[38;5;28;01mimport\u001b[39;00m ChromeDriverManager\n",
      "\u001b[31mModuleNotFoundError\u001b[39m: No module named 'selenium'"
     ]
    }
   ],
   "source": [
    "# Use Selenium only when you need to extract elements loaded by JavaScript (e.g., by class or id)\n",
    "# !pip install selenium webdriver-manager\n",
    "from selenium import webdriver\n",
    "from selenium.webdriver.chrome.service import Service\n",
    "from webdriver_manager.chrome import ChromeDriverManager\n",
    "from bs4 import BeautifulSoup\n",
    "\n",
    "# Set up Selenium WebDriver\n",
    "driver = webdriver.Chrome(service=Service(ChromeDriverManager().install()))\n",
    "driver.get(\"https://www.pakwheels.com/\")\n",
    "\n",
    "# Get the fully rendered page source\n",
    "html = driver.page_source\n",
    "\n",
    "# Parse with BeautifulSoup\n",
    "soup = BeautifulSoup(html, \"html.parser\")\n",
    "\n",
    "# Now you can find elements by class or id\n",
    "class_data = soup.find(\"div\", class_=\"header clearfix header--fixed home-header\")\n",
    "print(class_data)\n",
    "\n",
    "driver.quit()"
   ]
  },
  {
   "cell_type": "code",
   "execution_count": 33,
   "id": "4ea3c7a5",
   "metadata": {},
   "outputs": [
    {
     "ename": "AttributeError",
     "evalue": "'NoneType' object has no attribute 'find_all'",
     "output_type": "error",
     "traceback": [
      "\u001b[31m---------------------------------------------------------------------------\u001b[39m",
      "\u001b[31mAttributeError\u001b[39m                            Traceback (most recent call last)",
      "\u001b[36mCell\u001b[39m\u001b[36m \u001b[39m\u001b[32mIn[33]\u001b[39m\u001b[32m, line 2\u001b[39m\n\u001b[32m      1\u001b[39m id_data = soup.find(\u001b[33m\"\u001b[39m\u001b[33mdiv\u001b[39m\u001b[33m\"\u001b[39m, \u001b[38;5;28mid\u001b[39m = \u001b[33m\"\u001b[39m\u001b[33mheader clearfix header--fixed home-header\u001b[39m\u001b[33m\"\u001b[39m)\n\u001b[32m----> \u001b[39m\u001b[32m2\u001b[39m \u001b[43mid_data\u001b[49m\u001b[43m.\u001b[49m\u001b[43mfind_all\u001b[49m(\u001b[33m\"\u001b[39m\u001b[33mp\u001b[39m\u001b[33m\"\u001b[39m)\n",
      "\u001b[31mAttributeError\u001b[39m: 'NoneType' object has no attribute 'find_all'"
     ]
    }
   ],
   "source": [
    "id_data = soup.find(\"div\", id = \"header clearfix header--fixed home-header\")\n",
    "id_data.find_all(\"p\")"
   ]
  },
  {
   "cell_type": "markdown",
   "id": "3d18fdda",
   "metadata": {},
   "source": [
    "# **EXTRACTING LINKS:~**"
   ]
  },
  {
   "cell_type": "code",
   "execution_count": 34,
   "id": "3ebe15d2",
   "metadata": {},
   "outputs": [
    {
     "name": "stdout",
     "output_type": "stream",
     "text": [
      "https://www.cloudflare.com/5xx-error-landing\n"
     ]
    }
   ],
   "source": [
    "links = soup.find_all(\"a\")\n",
    "\n",
    "for i in links:\n",
    "    print(i.get(\"href\"))"
   ]
  },
  {
   "cell_type": "markdown",
   "id": "acc49a8a",
   "metadata": {},
   "source": [
    "# **EXTRACTING IMAGE INFORMATION:~**"
   ]
  },
  {
   "cell_type": "code",
   "execution_count": 35,
   "id": "0d4c560a",
   "metadata": {},
   "outputs": [],
   "source": [
    "img = soup.find_all(\"img\")\n",
    "\n",
    "for i in img:\n",
    "    print(i.get(\"src\"))"
   ]
  }
 ],
 "metadata": {
  "kernelspec": {
   "display_name": "Python 3",
   "language": "python",
   "name": "python3"
  },
  "language_info": {
   "codemirror_mode": {
    "name": "ipython",
    "version": 3
   },
   "file_extension": ".py",
   "mimetype": "text/x-python",
   "name": "python",
   "nbconvert_exporter": "python",
   "pygments_lexer": "ipython3",
   "version": "3.13.4"
  }
 },
 "nbformat": 4,
 "nbformat_minor": 5
}
